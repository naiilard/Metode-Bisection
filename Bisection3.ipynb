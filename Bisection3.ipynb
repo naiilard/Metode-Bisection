{
  "nbformat": 4,
  "nbformat_minor": 0,
  "metadata": {
    "colab": {
      "provenance": [],
      "authorship_tag": "ABX9TyMWtHn1mX8KgsK47jkYNo6W",
      "include_colab_link": true
    },
    "kernelspec": {
      "name": "python3",
      "display_name": "Python 3"
    },
    "language_info": {
      "name": "python"
    }
  },
  "cells": [
    {
      "cell_type": "markdown",
      "metadata": {
        "id": "view-in-github",
        "colab_type": "text"
      },
      "source": [
        "<a href=\"https://colab.research.google.com/github/naiilard/Metode-Bisection/blob/main/Bisection3.ipynb\" target=\"_parent\"><img src=\"https://colab.research.google.com/assets/colab-badge.svg\" alt=\"Open In Colab\"/></a>"
      ]
    },
    {
      "cell_type": "code",
      "execution_count": null,
      "metadata": {
        "colab": {
          "base_uri": "https://localhost:8080/"
        },
        "id": "GikYCcwv-1rQ",
        "outputId": "577542e5-3810-4176-c6f5-8e1c0114bbd7"
      },
      "outputs": [
        {
          "output_type": "stream",
          "name": "stdout",
          "text": [
            "Masukkan nilai a (batas bawah interval): -1\n",
            "Masukkan nilai b (batas atas interval): 1\n",
            "Masukkan nilai toleransi error: 0.000001\n",
            "Iterasi 1:\n",
            "  Batas bawah = -1.0, Batas atas = 1.0\n",
            "  Titik tengah = 0.0, f(bawah) = 2.6904401243468876, f(tengah) = 0.0\n",
            "Iterasi 2:\n",
            "  Batas bawah = 0.0, Batas atas = 1.0\n",
            "  Titik tengah = 0.5, f(bawah) = 0.0, f(tengah) = 0.4154390832136149\n",
            "Iterasi 3:\n",
            "  Batas bawah = 0.5, Batas atas = 1.0\n",
            "  Titik tengah = 0.75, f(bawah) = 0.4154390832136149, f(tengah) = 0.17740426629324135\n",
            "Iterasi 4:\n",
            "  Batas bawah = 0.75, Batas atas = 1.0\n",
            "  Titik tengah = 0.875, f(bawah) = 0.17740426629324135, f(tengah) = -0.16852448044101487\n",
            "Iterasi 5:\n",
            "  Batas bawah = 0.75, Batas atas = 0.875\n",
            "  Titik tengah = 0.8125, f(bawah) = 0.17740426629324135, f(tengah) = 0.026954901072897552\n",
            "Iterasi 6:\n",
            "  Batas bawah = 0.8125, Batas atas = 0.875\n",
            "  Titik tengah = 0.84375, f(bawah) = 0.026954901072897552, f(tengah) = -0.06487791601323822\n",
            "Iterasi 7:\n",
            "  Batas bawah = 0.8125, Batas atas = 0.84375\n",
            "  Titik tengah = 0.828125, f(bawah) = 0.026954901072897552, f(tengah) = -0.017519802589434974\n",
            "Iterasi 8:\n",
            "  Batas bawah = 0.8125, Batas atas = 0.828125\n",
            "  Titik tengah = 0.8203125, f(bawah) = 0.026954901072897552, f(tengah) = 0.005073621088210745\n",
            "Iterasi 9:\n",
            "  Batas bawah = 0.8203125, Batas atas = 0.828125\n",
            "  Titik tengah = 0.82421875, f(bawah) = 0.005073621088210745, f(tengah) = -0.006133529469410037\n",
            "Iterasi 10:\n",
            "  Batas bawah = 0.8203125, Batas atas = 0.82421875\n",
            "  Titik tengah = 0.822265625, f(bawah) = 0.005073621088210745, f(tengah) = -0.0005076318458130391\n",
            "Iterasi 11:\n",
            "  Batas bawah = 0.8203125, Batas atas = 0.822265625\n",
            "  Titik tengah = 0.8212890625, f(bawah) = 0.005073621088210745, f(tengah) = 0.00228856671577371\n",
            "Iterasi 12:\n",
            "  Batas bawah = 0.8212890625, Batas atas = 0.822265625\n",
            "  Titik tengah = 0.82177734375, f(bawah) = 0.00228856671577371, f(tengah) = 0.0008918615198396651\n",
            "Iterasi 13:\n",
            "  Batas bawah = 0.82177734375, Batas atas = 0.822265625\n",
            "  Titik tengah = 0.822021484375, f(bawah) = 0.0008918615198396651, f(tengah) = 0.00019246349090074055\n",
            "Iterasi 14:\n",
            "  Batas bawah = 0.822021484375, Batas atas = 0.822265625\n",
            "  Titik tengah = 0.8221435546875, f(bawah) = 0.00019246349090074055, f(tengah) = -0.00015749699739897594\n",
            "Iterasi 15:\n",
            "  Batas bawah = 0.822021484375, Batas atas = 0.8221435546875\n",
            "  Titik tengah = 0.82208251953125, f(bawah) = 0.00019246349090074055, f(tengah) = 1.750503969200068e-05\n",
            "Iterasi 16:\n",
            "  Batas bawah = 0.82208251953125, Batas atas = 0.8221435546875\n",
            "  Titik tengah = 0.822113037109375, f(bawah) = 1.750503969200068e-05, f(tengah) = -6.999053035916525e-05\n",
            "Iterasi 17:\n",
            "  Batas bawah = 0.82208251953125, Batas atas = 0.822113037109375\n",
            "  Titik tengah = 0.8220977783203125, f(bawah) = 1.750503969200068e-05, f(tengah) = -2.624138324236469e-05\n",
            "Iterasi 18:\n",
            "  Batas bawah = 0.82208251953125, Batas atas = 0.8220977783203125\n",
            "  Titik tengah = 0.8220901489257812, f(bawah) = 1.750503969200068e-05, f(tengah) = -4.367831256457677e-06\n",
            "Iterasi 19:\n",
            "  Batas bawah = 0.82208251953125, Batas atas = 0.8220901489257812\n",
            "  Titik tengah = 0.8220863342285156, f(bawah) = 1.750503969200068e-05, f(tengah) = 6.568689346675427e-06\n",
            "Iterasi 20:\n",
            "  Batas bawah = 0.8220863342285156, Batas atas = 0.8220901489257812\n",
            "  Titik tengah = 0.8220882415771484, f(bawah) = 6.568689346675427e-06, f(tengah) = 1.1004503275291455e-06\n",
            "Iterasi 21:\n",
            "  Batas bawah = 0.8220882415771484, Batas atas = 0.8220901489257812\n",
            "  Titik tengah = 0.8220891952514648, f(bawah) = 1.1004503275291455e-06, f(tengah) = -1.633685143609398e-06\n",
            "Akar yang ditemukan: x = 0.8220887184143066\n"
          ]
        }
      ],
      "source": [
        "# Metode Bisection untuk Fungsi Polinomial\n",
        "import numpy as np\n",
        "\n",
        "a = float(input('Masukkan nilai a (batas bawah interval): '))\n",
        "b = float(input('Masukkan nilai b (batas atas interval): '))\n",
        "error = float(input('Masukkan nilai toleransi error: '))\n",
        "\n",
        "def f(x):\n",
        "  return np.e**x*np.sin(x)-3*x**3\n",
        "\n",
        "def metode_bisection(a, b, error, f):\n",
        "  iterasi = 1\n",
        "  while abs(a-b) > error:\n",
        "    c = (a+b)/2\n",
        "    print(f\"Iterasi {iterasi}:\")\n",
        "    print(f\"  Batas bawah = {a}, Batas atas = {b}\")\n",
        "    print(f\"  Titik tengah = {c}, f(bawah) = {f(a)}, f(tengah) = {f(c)}\")\n",
        "\n",
        "    if f(a)*f(c) < 0:\n",
        "      b = c\n",
        "    else:\n",
        "      a = c\n",
        "    iterasi = iterasi + 1\n",
        "  return (a+b)/2\n",
        "\n",
        "akar = metode_bisection(a, b, error, f)\n",
        "print(f'Akar yang ditemukan: x = {akar}')"
      ]
    }
  ]
}