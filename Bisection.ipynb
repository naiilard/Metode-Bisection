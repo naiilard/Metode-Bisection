{
  "nbformat": 4,
  "nbformat_minor": 0,
  "metadata": {
    "colab": {
      "provenance": [],
      "authorship_tag": "ABX9TyPg1GWW5OLAXIKUgAc1Qzzo",
      "include_colab_link": true
    },
    "kernelspec": {
      "name": "python3",
      "display_name": "Python 3"
    },
    "language_info": {
      "name": "python"
    }
  },
  "cells": [
    {
      "cell_type": "markdown",
      "metadata": {
        "id": "view-in-github",
        "colab_type": "text"
      },
      "source": [
        "<a href=\"https://colab.research.google.com/github/naiilard/Metode-Bisection/blob/main/Bisection.ipynb\" target=\"_parent\"><img src=\"https://colab.research.google.com/assets/colab-badge.svg\" alt=\"Open In Colab\"/></a>"
      ]
    },
    {
      "cell_type": "code",
      "execution_count": null,
      "metadata": {
        "colab": {
          "base_uri": "https://localhost:8080/"
        },
        "id": "iz9l8Na_bdbR",
        "outputId": "cc185c34-7a64-4832-e21b-ff68cb182dbb"
      },
      "outputs": [
        {
          "output_type": "stream",
          "name": "stdout",
          "text": [
            "Masukkan nilai a:1.1\n",
            "Masukkan nilai b:2.2\n",
            "Masukkan nilai toleransi:0.0001\n",
            "Maka nilai a =  1.6500000000000001\n",
            "Maka nilai a =  1.9250000000000003\n",
            "Maka nilai b =  2.0625\n",
            "Maka nilai a =  1.9937500000000001\n",
            "Maka nilai b =  2.028125\n",
            "Maka nilai b =  2.0109375000000003\n",
            "Maka nilai b =  2.00234375\n",
            "Maka nilai a =  1.998046875\n",
            "Maka nilai b =  2.0001953125\n",
            "Maka nilai a =  1.99912109375\n",
            "Maka nilai a =  1.9996582031249999\n",
            "Maka nilai a =  1.9999267578124997\n",
            "Maka nilai b =  2.00006103515625\n",
            "Maka nilai a =  1.9999938964843749\n",
            "x =  1.9999938964843749\n"
          ]
        }
      ],
      "source": [
        "# Metode bisection\n",
        "\n",
        "def f(x):\n",
        "  return x**2 + 4*x - 12 # Fungsi yang akan dicari nilai x dimana f(x) = 0\n",
        "\n",
        "a = float(input('Masukkan nilai a:' )) # Batas bawah\n",
        "b = float(input('Masukkan nilai b:' )) # Batas bawah\n",
        "error = float(input('Masukkan nilai toleransi:' )) # Batas perbedaan a dan b\n",
        "\n",
        "def metodebisection(a, b):\n",
        "  iterasi = True # Menandakan iterasi sedang berjalan\n",
        "  i = 0 # Variabel iterasi\n",
        "  max_iter = 1000 # Batas maksimum iterasi\n",
        "\n",
        "  while iterasi and (i < max_iter): # Loop berjalan selama iterasi True dan belum melebihi batas maksimum iterasi\n",
        "      if f(a) * f(b) < 0: # Jika tanda f(a) dan f(b) berbeda maka ada akar pada interval yang diberikan\n",
        "        c = (a + b) / 2\n",
        "        if f(a) * f(c) < 0: # Akar berada pada interval [a, c]\n",
        "          b = c\n",
        "          print('Maka nilai b = ', c)\n",
        "        if f(a) * f(c) > 0: # Akar berada pada interval [c, b]\n",
        "          a = c\n",
        "          print('Maka nilai a = ', c)\n",
        "        if abs(b - a) < error:\n",
        "            iterasi = False\n",
        "        else:\n",
        "            i = i + 1\n",
        "      else:\n",
        "        print('Tidak ada akar pada interval yang diberikan')\n",
        "        break\n",
        "\n",
        "  print('x = ', c)\n",
        "\n",
        "metodebisection(a, b)"
      ]
    }
  ]
}