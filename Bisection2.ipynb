{
  "nbformat": 4,
  "nbformat_minor": 0,
  "metadata": {
    "colab": {
      "provenance": [],
      "authorship_tag": "ABX9TyPsb2fc/kfOCWaEohHFTHoF",
      "include_colab_link": true
    },
    "kernelspec": {
      "name": "python3",
      "display_name": "Python 3"
    },
    "language_info": {
      "name": "python"
    }
  },
  "cells": [
    {
      "cell_type": "markdown",
      "metadata": {
        "id": "view-in-github",
        "colab_type": "text"
      },
      "source": [
        "<a href=\"https://colab.research.google.com/github/naiilard/Metode-Bisection/blob/main/Bisection2.ipynb\" target=\"_parent\"><img src=\"https://colab.research.google.com/assets/colab-badge.svg\" alt=\"Open In Colab\"/></a>"
      ]
    },
    {
      "cell_type": "code",
      "source": [
        "# Input koefisien a, b, c, batas bawah, batas atas, dan error\n",
        "a = float(input('Masukkan nilai a: '))\n",
        "b = float(input('Masukkan nilai b: '))\n",
        "c = float(input('Masukkan nilai c: '))\n",
        "bawah = float(input('Masukkan batas bawah: '))\n",
        "atas = float(input('Masukkan batas atas: '))\n",
        "error = float(input('Masukkan nilai toleransi: '))\n",
        "\n",
        "# Fungsi persamaan kuadrat\n",
        "def f(x, a, b, c):\n",
        "    return a * x**2 + b * x + c\n",
        "\n",
        "# Fungsi untuk menghitung diskriminan\n",
        "def diskriminan(a, b, c):\n",
        "    return b**2 - 4 * a * c\n",
        "\n",
        "D = diskriminan(a, b, c)\n",
        "\n",
        "if D < 0:\n",
        "    print('Persamaan tidak memiliki akar real.')\n",
        "else:\n",
        "    print('Persamaan memiliki akar real.')\n",
        "\n",
        "    # Fungsi metode bisection\n",
        "    def metode_bisection(bawah, atas, error, a, b, c):\n",
        "        iterasi = 1  # Inisialisasi iterasi\n",
        "        while abs(bawah - atas) > error:  # Loop sampai selisih antara bawah dan atas kurang dari error\n",
        "            tengah = (bawah + atas) / 2  # Titik tengah interval\n",
        "            # Menampilkan hasil setiap iterasi\n",
        "            print(f\"Iterasi {iterasi}:\")\n",
        "            print(f\"  Batas bawah = {bawah}, Batas atas = {atas}\")\n",
        "            print(f\"  Titik tengah = {tengah}, f(bawah) = {f(bawah, a, b, c)}, f(tengah) = {f(tengah, a, b, c)}\")\n",
        "\n",
        "            # Cek apakah akar berada di antara batas bawah dan titik tengah\n",
        "            if f(bawah, a, b, c) * f(tengah, a, b, c) < 0:\n",
        "                atas = tengah  # Akar ada di antara batas bawah dan tengah\n",
        "            else:\n",
        "                bawah = tengah  # Akar ada di antara batas tengah dan atas\n",
        "\n",
        "            iterasi = iterasi + 1  # Tambah iterasi\n",
        "        return (atas + bawah) / 2  # Mengembalikan nilai tengah sebagai akar\n",
        "\n",
        "    # Menjalankan metode bisection\n",
        "    akar = metode_bisection(bawah, atas, error, a, b, c)\n",
        "    print(f'Akar yang ditemukan: x = {akar}')"
      ],
      "metadata": {
        "id": "V0k1LHiEmmU8",
        "colab": {
          "base_uri": "https://localhost:8080/"
        },
        "outputId": "b02fa33d-bd61-43d6-9d51-626cf4c21ac4"
      },
      "execution_count": null,
      "outputs": [
        {
          "output_type": "stream",
          "name": "stdout",
          "text": [
            "Masukkan nilai a: 1\n",
            "Masukkan nilai b: -1\n",
            "Masukkan nilai c: -6\n",
            "Masukkan batas bawah: 1\n",
            "Masukkan batas atas: 3\n",
            "Masukkan nilai toleransi: 0.001\n",
            "Persamaan memiliki akar real.\n",
            "Iterasi 1:\n",
            "  Batas bawah = 1.0, Batas atas = 3.0\n",
            "  Titik tengah = 2.0, f(bawah) = -6.0, f(tengah) = -4.0\n",
            "Iterasi 2:\n",
            "  Batas bawah = 2.0, Batas atas = 3.0\n",
            "  Titik tengah = 2.5, f(bawah) = -4.0, f(tengah) = -2.25\n",
            "Iterasi 3:\n",
            "  Batas bawah = 2.5, Batas atas = 3.0\n",
            "  Titik tengah = 2.75, f(bawah) = -2.25, f(tengah) = -1.1875\n",
            "Iterasi 4:\n",
            "  Batas bawah = 2.75, Batas atas = 3.0\n",
            "  Titik tengah = 2.875, f(bawah) = -1.1875, f(tengah) = -0.609375\n",
            "Iterasi 5:\n",
            "  Batas bawah = 2.875, Batas atas = 3.0\n",
            "  Titik tengah = 2.9375, f(bawah) = -0.609375, f(tengah) = -0.30859375\n",
            "Iterasi 6:\n",
            "  Batas bawah = 2.9375, Batas atas = 3.0\n",
            "  Titik tengah = 2.96875, f(bawah) = -0.30859375, f(tengah) = -0.1552734375\n",
            "Iterasi 7:\n",
            "  Batas bawah = 2.96875, Batas atas = 3.0\n",
            "  Titik tengah = 2.984375, f(bawah) = -0.1552734375, f(tengah) = -0.077880859375\n",
            "Iterasi 8:\n",
            "  Batas bawah = 2.984375, Batas atas = 3.0\n",
            "  Titik tengah = 2.9921875, f(bawah) = -0.077880859375, f(tengah) = -0.03900146484375\n",
            "Iterasi 9:\n",
            "  Batas bawah = 2.9921875, Batas atas = 3.0\n",
            "  Titik tengah = 2.99609375, f(bawah) = -0.03900146484375, f(tengah) = -0.0195159912109375\n",
            "Iterasi 10:\n",
            "  Batas bawah = 2.99609375, Batas atas = 3.0\n",
            "  Titik tengah = 2.998046875, f(bawah) = -0.0195159912109375, f(tengah) = -0.009761810302734375\n",
            "Iterasi 11:\n",
            "  Batas bawah = 2.998046875, Batas atas = 3.0\n",
            "  Titik tengah = 2.9990234375, f(bawah) = -0.009761810302734375, f(tengah) = -0.004881858825683594\n",
            "Akar yang ditemukan: x = 2.99951171875\n"
          ]
        }
      ]
    }
  ]
}